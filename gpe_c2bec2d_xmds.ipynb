{
 "cells": [
  {
   "cell_type": "code",
   "execution_count": 1,
   "metadata": {},
   "outputs": [],
   "source": [
    "# file: py_c2bec2d/gpe_xmds.py\n",
    "\n",
    "import shlex, subprocess\n",
    "import numpy as np\n",
    "\n",
    "import h5py"
   ]
  },
  {
   "cell_type": "code",
   "execution_count": 2,
   "metadata": {},
   "outputs": [],
   "source": [
    "%matplotlib inline\n",
    "\n",
    "import matplotlib.pyplot as plt \n",
    "plt.style.use(['tableau-colorblind10'])"
   ]
  },
  {
   "cell_type": "code",
   "execution_count": 3,
   "metadata": {},
   "outputs": [],
   "source": [
    "# file: py_c2bec2d/gpe_xmds.py\n",
    "\n",
    "def run_shell_command(cmdline, output=True):\n",
    "    print(\"run shell command: \", cmdline, \"\\n\")\n",
    "    args = shlex.split(cmdline)\n",
    "    # let's use the new run command\n",
    "    p = subprocess.run(args, stdout=subprocess.PIPE, stderr=subprocess.STDOUT)\n",
    "    if output:\n",
    "        print(p.stdout.decode('utf-8'))\n",
    "        return p.stderr    "
   ]
  },
  {
   "cell_type": "code",
   "execution_count": 4,
   "metadata": {},
   "outputs": [
    {
     "name": "stdout",
     "output_type": "stream",
     "text": [
      "run shell command:  ls \n",
      "\n"
     ]
    }
   ],
   "source": [
    "run_shell_command('ls', output=False)"
   ]
  },
  {
   "cell_type": "markdown",
   "metadata": {},
   "source": [
    "# GP Solution with xmds2"
   ]
  },
  {
   "cell_type": "markdown",
   "metadata": {},
   "source": [
    "## Generate xmds file with desired number of lattice points, ranges in $x$ and $y$ coordinates, maximum simulation time etc."
   ]
  },
  {
   "cell_type": "code",
   "execution_count": 5,
   "metadata": {},
   "outputs": [],
   "source": [
    "# file: py_c2bec2d/gpe_xmds.py\n",
    "\n",
    "def generate_xmdsfile(xmax=10.0, ymax=10, nlat=128, tmax=1, xmdstol=1.e-8,\n",
    "                      nsamples1=4, nsamples2=4, args_in_filename=\"no\",\n",
    "                      xmds_compile=\"compile_gpe.xmds\",\n",
    "                      xmdstemplate=\"template_gpe.xmds\"):\n",
    "\n",
    "    # Read in the template file\n",
    "    with open(xmdstemplate, 'r') as file :\n",
    "      filedata = file.read()\n",
    "    \n",
    "    # Replace the target strings\n",
    "    filedata = filedata.replace('xmaxVALUE',   str(xmax))\n",
    "    filedata = filedata.replace('ymaxVALUE',   str(ymax))\n",
    "    filedata = filedata.replace('nlatVALUE',   str(nlat))\n",
    "    filedata = filedata.replace('nsamples1VALUE',   str(nsamples1))\n",
    "    filedata = filedata.replace('nsamples2VALUE',   str(nsamples2))\n",
    "    filedata = filedata.replace('tmaxVALUE',   str(tmax))\n",
    "    filedata = filedata.replace('tolVALUE',    str(xmdstol))\n",
    "    filedata = filedata.replace('argsVALUE',   args_in_filename)\n",
    "\n",
    "    # Write out the file to be compiledb\n",
    "    with open(xmds_compile, 'w') as file:\n",
    "      file.write(filedata)\n",
    "    \n",
    "    print(\"xmds file to compile: \"+xmds_compile)"
   ]
  },
  {
   "cell_type": "code",
   "execution_count": 7,
   "metadata": {},
   "outputs": [],
   "source": [
    "# Simulation parameters\n",
    "xmax=10\n",
    "ymax=xmax\n",
    "nlat=64"
   ]
  },
  {
   "cell_type": "code",
   "execution_count": 8,
   "metadata": {},
   "outputs": [
    {
     "name": "stdout",
     "output_type": "stream",
     "text": [
      "xmds file to compile: compile_gpe.xmds\n"
     ]
    }
   ],
   "source": [
    "generate_xmdsfile(tmax=1, nlat=nlat)"
   ]
  },
  {
   "cell_type": "code",
   "execution_count": 9,
   "metadata": {},
   "outputs": [],
   "source": [
    "# file: py_c2bec2d/gpe_xmds.py\n",
    "\n",
    "def compile_xmds(xmds_compile=\"compile_gpe.xmds\", output=True):\n",
    "    cmdline  = 'xmds2 '+xmds_compile\n",
    "    return run_shell_command(cmdline,output=output)"
   ]
  },
  {
   "cell_type": "code",
   "execution_count": 10,
   "metadata": {},
   "outputs": [
    {
     "name": "stdout",
     "output_type": "stream",
     "text": [
      "run shell command:  xmds2 compile_gpe.xmds \n",
      "\n",
      "xmds2 version 3.0.0 \"Release the Kraken\" (r3071)\n",
      "Copyright 2000-2019 Graham Dennis, Joseph Hope, Mattias Johnsson\n",
      "                    and the xmds team\n",
      "Generating source code...\n",
      "... done\n",
      "Compiling simulation...\n",
      "... done. Type './xgpe2d' to run.\n",
      "\n"
     ]
    }
   ],
   "source": [
    "stderr = compile_xmds(output=True)"
   ]
  },
  {
   "cell_type": "markdown",
   "metadata": {},
   "source": [
    "## create and save initial wave function "
   ]
  },
  {
   "cell_type": "code",
   "execution_count": 11,
   "metadata": {},
   "outputs": [],
   "source": [
    "# file: py_c2bec2d/gpe_xmds.py\n",
    "\n",
    "def save_real_func_as_h5(xa, ya, sa, Vext, variable_name=\"Vext0\", file_name=\"func.h5\"):\n",
    "    import h5py\n",
    "    hf = h5py.File(file_name, \"w\")\n",
    "    hf.create_dataset(\"x\", data=xa)\n",
    "    hf.create_dataset(\"y\", data=ya)\n",
    "    hf.create_dataset(\"s\", data=sa)\n",
    "    hf.create_dataset(variable_name, data=Vext)\n",
    "    hf.close()\n",
    "    print(\"saved file \"+file_name)\n",
    "\n",
    "def save_complex_func_as_h5(xa, ya, sa, phi0, variable_name=\"phi0\", file_name=\"cfunc.h5\"):\n",
    "    import h5py\n",
    "    hf = h5py.File(file_name, \"w\")\n",
    "    hf.create_dataset(\"x\", data=xa)\n",
    "    hf.create_dataset(\"y\", data=ya)\n",
    "    hf.create_dataset(\"s\", data=sa)\n",
    "    hf.create_dataset(variable_name+\"R\", data=phi0.real)\n",
    "    hf.create_dataset(variable_name+\"I\", data=phi0.imag)\n",
    "    hf.close()\n",
    "    print(\"saved file \"+file_name)"
   ]
  },
  {
   "cell_type": "code",
   "execution_count": 16,
   "metadata": {},
   "outputs": [],
   "source": [
    "xa = np.linspace(-xmax,xmax,nlat+1)[:-1]\n",
    "ya = np.linspace(-ymax,ymax,nlat+1)[:-1]\n",
    "sa = np.array([1, 2])\n",
    "\n",
    "\n",
    "xx, yy, ss= np.meshgrid(xa,ya,sa,indexing='xy')  ### changed the index by 'xy' from 'ij'\n",
    "\n",
    "r2 = xx**2 + yy**2 \n",
    "rr = np.sqrt(r2)\n",
    "σ2 = ss\n",
    "\n",
    "phi0 = np.exp(-r2/(2*σ2))+0*1j\n",
    "norm2 = np.sum(np.abs(phi0)**2,axis=(0,1))*(xa[1]-xa[0])*(ya[1]-ya[0])\n",
    "#print(norm2)\n",
    "phi0[:,:,0] = phi0[:,:,0]/np.sqrt(norm2[0])\n",
    "phi0[:,:,1] = phi0[:,:,1]/np.sqrt(norm2[1])"
   ]
  },
  {
   "cell_type": "code",
   "execution_count": 17,
   "metadata": {},
   "outputs": [
    {
     "name": "stdout",
     "output_type": "stream",
     "text": [
      "saved file 2phi0.h5\n"
     ]
    },
    {
     "data": {
      "image/png": "[encoded data removed]",
      "text/plain": [
       "<Figure size 720x360 with 2 Axes>"
      ]
     },
     "metadata": {
      "needs_background": "light"
     },
     "output_type": "display_data"
    }
   ],
   "source": [
    "fig, ax = plt.subplots(1,2,figsize=(10,5))\n",
    "\n",
    "for i in range(2):\n",
    "    ax[i].pcolor(xa,ya,phi0.real[:,:,i])\n",
    "    ax[i].set_aspect(1.)\n",
    "    \n",
    "save_complex_func_as_h5(xa, ya, sa, phi0, file_name=\"2phi0.h5\")"
   ]
  },
  {
   "cell_type": "markdown",
   "metadata": {},
   "source": [
    "## create and save external potential"
   ]
  },
  {
   "cell_type": "code",
   "execution_count": 20,
   "metadata": {},
   "outputs": [
    {
     "name": "stdout",
     "output_type": "stream",
     "text": [
      "saved file 2Vext.h5\n"
     ]
    },
    {
     "data": {
      "image/png": "[encoded data removed]",
      "text/plain": [
       "<Figure size 720x360 with 2 Axes>"
      ]
     },
     "metadata": {
      "needs_background": "light"
     },
     "output_type": "display_data"
    }
   ],
   "source": [
    "# external potential\n",
    "r0 = 5\n",
    "V_Corbino = 0.5*(rr-r0)**2\n",
    "\n",
    "fig, ax = plt.subplots(1,2,figsize=(10,5))\n",
    "\n",
    "for i in range(2):\n",
    "    ax[i].pcolor(xa,ya,V_Corbino[:,:,i])\n",
    "    ax[i].set_aspect(1.)\n",
    "\n",
    "save_real_func_as_h5(xa, ya, sa, V_Corbino, file_name=\"2Vext.h5\")"
   ]
  },
  {
   "cell_type": "code",
   "execution_count": 21,
   "metadata": {},
   "outputs": [],
   "source": [
    "# file: py_c2bec2d/gpe_xmds.py\n",
    "\n",
    "def run_xmds(args_dict={\"r0\":0}, exefile=\"xgpe2d\", output=True):\n",
    "    # run simulation\n",
    "    # ./xgpe2d --r0=0 etc.\n",
    "    cmdline  = 'nice -19 ./'+exefile\n",
    "    for arg in args_dict:\n",
    "        cmdline+=\" --\"+arg+\"=\"+str(args_dict[arg])\n",
    "    \n",
    "    return run_shell_command(cmdline,output=output)"
   ]
  },
  {
   "cell_type": "code",
   "execution_count": 22,
   "metadata": {},
   "outputs": [],
   "source": [
    "g0=100\n",
    "args= {\n",
    "      \"use_phi0\"    : 1, \n",
    "      \"use_Vext0\"   : 1, \n",
    "      \"use_OOmega2\" : 1, \n",
    "      \"r0\"          : 5,\n",
    "      \"N1\"          : 1.0,\n",
    "      \"N2\"          : 1.0,\n",
    "      \"U11\"         : g0,\n",
    "      \"U22\"         : g0,\n",
    "      \"U12\"         : 0.*g0,\n",
    "      \"U21\"         : 0.*g0,\n",
    "      \"Omega1\"      : 0.01,\n",
    "      \"Omega2\"      : 0.\n",
    "      }"
   ]
  },
  {
   "cell_type": "code",
   "execution_count": 23,
   "metadata": {},
   "outputs": [
    {
     "name": "stdout",
     "output_type": "stream",
     "text": [
      "run shell command:  nice -19 ./xgpe2d --use_phi0=1 --use_Vext0=1 --use_OOmega2=1 --r0=5 --N1=1.0 --N2=1.0 --U11=100 --U22=100 --U12=0.0 --U21=0.0 --Omega1=0.01 --Omega2=0.0 \n",
      "\n",
      "Found enlightenment... (Importing wisdom)\n",
      "Planning for (x, y) <---> (kx, ky) transform... done.\n",
      "Planning for (x, y) <---> (kx, ky) transform... done.\n",
      "Sampled field (for moment group #1) at t = 0.000000e+00\n",
      "Sampled field (for moment group #2) at t = 0.000000e+00\n",
      "\n",
      "\n",
      " Real/Imag. time evolution of a charged two-component BEC: \n",
      "\n",
      "\n",
      "Current timestep: 6.479742e-03\n",
      "Sampled field (for moment group #1) at t = 2.500000e-01\n",
      "Sampled field (for moment group #2) at t = 2.500000e-01\n",
      "Current timestep: 8.550008e-03\n",
      "Sampled field (for moment group #1) at t = 5.000000e-01\n",
      "Sampled field (for moment group #2) at t = 5.000000e-01\n",
      "Current timestep: 9.651916e-03\n",
      "Sampled field (for moment group #1) at t = 7.500000e-01\n",
      "Sampled field (for moment group #2) at t = 7.500000e-01\n",
      "Current timestep: 1.087306e-02\n",
      "Sampled field (for moment group #1) at t = 1.000000e+00\n",
      "Sampled field (for moment group #2) at t = 1.000000e+00\n",
      "Current timestep: 8.452855e-03\n",
      "Segment 3: minimum timestep: 1.000000e-03 maximum timestep: 1.087306e-02\n",
      "  Attempted 162 steps, 0.00% steps failed.\n",
      "Generating output for xgpe2d\n",
      "\u0007\n"
     ]
    }
   ],
   "source": [
    "run_xmds(args)"
   ]
  },
  {
   "cell_type": "code",
   "execution_count": 66,
   "metadata": {},
   "outputs": [],
   "source": [
    "# file: py_c2bec2d/gpe_xmds.py\n",
    "\n",
    "# pickles xmds output variables as python dictionary\n",
    "def save_xmds_output(outfile=\"out_gpe2d\", output=True):\n",
    "   # generate python file to read output data \n",
    "    cmdline=('xsil2graphics2 -p '+ outfile+'.xsil')\n",
    "    run_shell_command(cmdline,output=output)\n",
    "    \n",
    "    # get a list of xmds variables\n",
    "    with open(outfile+\".py\", 'r') as infile:\n",
    "        variable_list=[]\n",
    "        copy = False\n",
    "        for line in infile:\n",
    "            if line.strip() == \"return None\":\n",
    "                copy = True\n",
    "            elif line.strip() == \"# Write your plotting commands here.\":\n",
    "                copy = False\n",
    "            elif copy:\n",
    "                variable_list.append(line.split(' ', 1)[0])\n",
    "    variable_list=variable_list[1:-1]\n",
    "    \n",
    "    str_variable_list=[]\n",
    "    for var in variable_list:\n",
    "        str_variable_list.append('\"'+var+'\"')\n",
    "        \n",
    "    #print(str_variable_list)\n",
    "    \n",
    "    # save using xmds utils generated python2 and pickle save\n",
    "    with open(outfile+'.py', \"a\") as xsilpyfile:\n",
    "        xsilpyfile.write(\"var_dict={}\\n\")\n",
    "        xsilpyfile.write('for var_name, variable in zip(['+\", \".join(str_variable_list)+\"],[\"+\", \".join(variable_list)+\"]):\\n\")\n",
    "        xsilpyfile.write(\"    var_dict[var_name]=variable\\n\")\n",
    "        xsilpyfile.write(\"import pickle\\n\")\n",
    "        xsilpyfile.write(\"with open('\"+outfile+\".pkl', 'w') as f:  # Python 3: open(..., 'wb')\\n\")\n",
    "        xsilpyfile.write(\"   pickle.dump(var_dict, f)\\n\")\n",
    "    \n",
    "    # save using system python\n",
    "    cmdline=('python2 '+ outfile+'.py')\n",
    "    run_shell_command(cmdline,output=output)"
   ]
  },
  {
   "cell_type": "code",
   "execution_count": 67,
   "metadata": {},
   "outputs": [
    {
     "name": "stdout",
     "output_type": "stream",
     "text": [
      "run shell command:  xsil2graphics2 -p out_gpe2d.xsil \n",
      "\n",
      "run shell command:  python2 out_gpe2d.py \n",
      "\n"
     ]
    }
   ],
   "source": [
    "save_xmds_output(outfile=\"out_gpe2d\", output=False)"
   ]
  },
  {
   "cell_type": "code",
   "execution_count": 68,
   "metadata": {},
   "outputs": [],
   "source": [
    "# file: py_c2bec2d/gpe_xmds.py\n",
    "\n",
    "def get_xmds_output(outfile=\"out_gpe2d\"):\n",
    "    import pickle\n",
    "    # Getting back the objects:\n",
    "    with open(outfile+'.pkl','rb') as f:  # Python 3: open(..., 'rb')\n",
    "        return pickle.load(f,encoding='latin1')"
   ]
  },
  {
   "cell_type": "code",
   "execution_count": 69,
   "metadata": {},
   "outputs": [],
   "source": [
    "var_dict = get_xmds_output(outfile=\"out_gpe2d\")"
   ]
  },
  {
   "cell_type": "code",
   "execution_count": 70,
   "metadata": {},
   "outputs": [
    {
     "data": {
      "text/plain": [
       "dict_keys(['EEVext_2', 'chem_pot_2', 'LLzR_2', 'EEOmega2_2', 'EEkin_canonical_2', 'dens_1', 'EEtot_2', 'phase_1', 'Nnorm_2', 'EEkin_2', 'x_1', 's_1', 'LLzI_2', 's_2', 'y_1', 'phiR_1', 'phiI_1', 'EEintss_2', 't_2', 'Lz_2', 't_1', 'EEint12_2'])"
      ]
     },
     "execution_count": 70,
     "metadata": {},
     "output_type": "execute_result"
    }
   ],
   "source": [
    "var_dict.keys()"
   ]
  },
  {
   "cell_type": "code",
   "execution_count": 71,
   "metadata": {},
   "outputs": [
    {
     "data": {
      "text/plain": [
       "array([0.  , 0.25, 0.5 , 0.75, 1.  ])"
      ]
     },
     "execution_count": 71,
     "metadata": {},
     "output_type": "execute_result"
    }
   ],
   "source": [
    "var_dict[\"t_1\"]"
   ]
  },
  {
   "cell_type": "code",
   "execution_count": 72,
   "metadata": {},
   "outputs": [],
   "source": [
    "def plot_results(out,title=\"\"):                                                                                                                                                                                                                                              \n",
    "    colors=['blue','green']                                                                                                                                                                                                                                                  \n",
    "    fig, ax = plt.subplots(2,5,figsize=(24,4*2))                                                                                                                                                                                                                             \n",
    "    for icomp in range(2):                                                                                                                                                                                                                                                   \n",
    "        xx, yy = np.meshgrid(out[\"x_1\"],out[\"y_1\"], indexing='xy')  ### changed the intex by 'xy'                                                                                                                                                                                    \n",
    "        dens=out[\"dens_1\"][-1,:,:,icomp]                                                                                                                                                                                                                                            \n",
    "        #phase=np.mod(out[\"phase_1\"][-1,:,:,icomp],2*np.pi)#+2*np.pi                                                                                                                                                                                                                  \n",
    "        phase=out[\"phase_1\"][-1,:,:,icomp]                                                                                                                                                                                                                  \n",
    "        #vx, vy, vr, vt =  py2gp2d.velocity_field(out, icomp)                                                                                                                                                                                                                 \n",
    "                                                                                                                                                                                                                                                                             \n",
    "        img1=ax[icomp,0].pcolor(xx,yy,dens) # final state                                                                                                                                                                                                    \n",
    "        fig.colorbar(img1, ax=ax[icomp,0])                                                                                                                                                                                                                                   \n",
    "                                                                                                                                                                                                                                                                             \n",
    "        img2=ax[icomp,1].pcolor(xx,yy,phase/(np.pi)) # phase/2*pi                                                                                                                                                                                                          \n",
    "        cbar2=fig.colorbar(img2, ax=ax[icomp,1],format=\"%.1g\")                                                                                                                                                                                                               \n",
    "                                                                                                                                                                                                                                                                             \n",
    "        #img3=ax[icomp,2].pcolor(xx,yy,vr*dens)                                                                                                                                                                                                                               \n",
    "        #cbar3=fig.colorbar(img3, ax=ax[icomp,2],format=\"%.1g\")                                                                                                                                                                                                               \n",
    "                                                                                                                                                                                                                                                                             \n",
    "        #img4=ax[icomp,3].pcolor(xx,yy,vt*dens)                                                                                                                                                                                                                               \n",
    "        #cbar4=fig.colorbar(img4, ax=ax[icomp,3],format=\"%.1g\")                                                                                                                                                                                                               \n",
    "                                                                                                                                                                                                                                                                             \n",
    "        ax[icomp,4].plot(out[\"t_2\"], out[\"Nnorm_2\"][:,icomp],'o-', color=colors[icomp], label='norm')                                                                                                                                                                                           \n",
    "        ax[icomp,4].plot(out[\"t_2\"], out[\"LLzR_2\"][:,icomp],'x--', color=colors[icomp], label='Lz')                                                                                                                                                                                            \n",
    "                                                                                                                                                                                                                                                                             \n",
    "    for ix in range(4):                                                                                                                                                                                                                                                      \n",
    "        ax[0,ix].set_xticklabels([])                                                                                                                                                                                                                                         \n",
    "        ax[0,ix].set_aspect(1.0)                                                                                                                                                                                                                                             \n",
    "        ax[1,ix].set_aspect(1.0)                                                                                                                                                                                                                                             \n",
    "                                                                                                                                                                                                                                                                             \n",
    "    for iy in range(1,4):                                                                                                                                                                                                                                                    \n",
    "        ax[0,iy].set_yticklabels([])                                                                                                                                                                                                                                         \n",
    "        ax[1,iy].set_yticklabels([])                                                                                                                                                                                                                                         \n",
    "                                                                                                                                                                                                                                                                             \n",
    "    ax[0,4].legend(fontsize=10)                                                                                                                                                                                                                                              \n",
    "                                                                                                                                                                                                                                                                             \n",
    "    ax[0,0].set_title(\"density\")                                                                                                                                                                                                                                             \n",
    "    ax[0,1].set_title(\"$phase/\\pi$\")                                                                                                                                                                                                                                       \n",
    "    ax[0,2].set_title(\"radial vel.\")                                                                                                                                                                                                                                         \n",
    "    ax[0,3].set_title(\"angular vel.\")                                                                                                                                                                                                                                        \n",
    "    #ax[0,4].set_title(\"norm, PS, Lz\")                                                                                                                                                                                                                                       \n",
    "    fig.suptitle(title, fontsize=54)                                                                                                                                                                                                                                         \n",
    "    fig.tight_layout()                                                                                                                                                                                                                                                       \n",
    "    fig.subplots_adjust(top=.86)    "
   ]
  },
  {
   "cell_type": "code",
   "execution_count": 73,
   "metadata": {},
   "outputs": [
    {
     "data": {
      "image/png": "[encoded data removed]",
      "text/plain": [
       "<Figure size 1728x576 with 14 Axes>"
      ]
     },
     "metadata": {
      "needs_background": "light"
     },
     "output_type": "display_data"
    }
   ],
   "source": [
    "plot_results(var_dict)"
   ]
  },
  {
   "cell_type": "code",
   "execution_count": null,
   "metadata": {},
   "outputs": [],
   "source": []
  }
 ],
 "metadata": {
  "kernelspec": {
   "display_name": "Python 3",
   "language": "python",
   "name": "python3"
  },
  "language_info": {
   "codemirror_mode": {
    "name": "ipython",
    "version": 3
   },
   "file_extension": ".py",
   "mimetype": "text/x-python",
   "name": "python",
   "nbconvert_exporter": "python",
   "pygments_lexer": "ipython3",
   "version": "3.8.3"
  }
 },
 "nbformat": 4,
 "nbformat_minor": 4
}
