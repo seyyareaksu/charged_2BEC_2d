{
 "cells": [
  {
   "cell_type": "code",
   "execution_count": 2,
   "metadata": {},
   "outputs": [],
   "source": [
    "# file: py_c2bec2d/gpe_xmds.py\n",
    "\n",
    "import shlex, subprocess\n",
    "import numpy as np\n",
    "\n",
    "import h5py"
   ]
  },
  {
   "cell_type": "code",
   "execution_count": 3,
   "metadata": {},
   "outputs": [],
   "source": [
    "%matplotlib inline\n",
    "\n",
    "import matplotlib.pyplot as plt \n",
    "plt.style.use(['tableau-colorblind10'])"
   ]
  },
  {
   "cell_type": "code",
   "execution_count": 4,
   "metadata": {},
   "outputs": [],
   "source": [
    "# file: py_c2bec2d/gpe_xmds.py\n",
    "\n",
    "def run_shell_command(cmdline, output=True):\n",
    "    print(\"shell command: \", cmdline, \"\\n\")\n",
    "    args = shlex.split(cmdline)\n",
    "    # let's use the new run command\n",
    "    p = subprocess.run(args, stdout=subprocess.PIPE, stderr=subprocess.STDOUT)\n",
    "    if output:\n",
    "        print(p.stdout.decode('utf-8'))\n",
    "        return p.stderr    "
   ]
  },
  {
   "cell_type": "code",
   "execution_count": 5,
   "metadata": {},
   "outputs": [
    {
     "name": "stdout",
     "output_type": "stream",
     "text": [
      "shell command:  ls \n",
      "\n",
      "environment_c2bec2d_xmds.yml\n",
      "exportnb.py\n",
      "exports_c2bec2d_xmds.ipynb\n",
      "gpe_c2bec2d_xmds.ipynb\n",
      "__pycache__\n",
      "README.md\n",
      "spec-file_c2bec2d_xmds.txt\n",
      "\n"
     ]
    }
   ],
   "source": [
    "run_shell_command('ls')"
   ]
  },
  {
   "cell_type": "markdown",
   "metadata": {},
   "source": [
    "# GP Solution with xmds2"
   ]
  },
  {
   "cell_type": "markdown",
   "metadata": {},
   "source": [
    "## Generate xmds file with desired number of lattice points, ranges in $x$ and $y$ coordinates, maximum simulation time etc."
   ]
  },
  {
   "cell_type": "code",
   "execution_count": 7,
   "metadata": {},
   "outputs": [],
   "source": [
    "# file: py_c2bec2d/gpe_xmds.py\n",
    "\n",
    "def generate_xmdsfile(xmax=10.0, ymax=10, nlat=128, tmax=1, xmdstol=1.e-8,\n",
    "                      nsamples1=4, nsamples2=4, args_in_filename=\"no\",\n",
    "                      xmds_compile=\"compile_gpe.xmds\",\n",
    "                      xmdstemplate=\"template_gpe.xmds\"):\n",
    "\n",
    "    # Read in the template file\n",
    "    with open(xmdstemplate, 'r') as file :\n",
    "      filedata = file.read()\n",
    "    \n",
    "    # Replace the target strings\n",
    "    filedata = filedata.replace('xmaxVALUE',   str(xmax))\n",
    "    filedata = filedata.replace('ymaxVALUE',   str(ymax))\n",
    "    filedata = filedata.replace('nlatVALUE',   str(nlat))\n",
    "    filedata = filedata.replace('nsamples1VALUE',   str(nsamples1))\n",
    "    filedata = filedata.replace('nsamples2VALUE',   str(nsamples2))\n",
    "    filedata = filedata.replace('tmaxVALUE',   str(tmax))\n",
    "    filedata = filedata.replace('tolVALUE',    str(xmdstol))\n",
    "    filedata = filedata.replace('argsVALUE',   args_in_filename)\n",
    "\n",
    "    # Write out the file to be compiled\n",
    "    with open(xmds_compile, 'w') as file:\n",
    "      file.write(filedata)\n",
    "    \n",
    "    print(\"xmds file to compile: \"+xmds_compile)"
   ]
  },
  {
   "cell_type": "code",
   "execution_count": 10,
   "metadata": {},
   "outputs": [
    {
     "name": "stdout",
     "output_type": "stream",
     "text": [
      "xmds file to compile: compile_gpe.xmds\n"
     ]
    }
   ],
   "source": [
    "generate_xmdsfile(tmax=1, nlat=128)"
   ]
  },
  {
   "cell_type": "code",
   "execution_count": 11,
   "metadata": {},
   "outputs": [],
   "source": [
    "# file: py_c2bec2d/gpe_xmds.py\n",
    "\n",
    "def compile_xmds(xmds_compile=\"compile_gpe.xmds\", output=True):\n",
    "    cmdline  = 'xmds2 '+xmds_compile\n",
    "    return run_shell_command(cmdline,output=output)"
   ]
  },
  {
   "cell_type": "code",
   "execution_count": 12,
   "metadata": {},
   "outputs": [
    {
     "name": "stdout",
     "output_type": "stream",
     "text": [
      "shell command:  xmds2 compile_gpe.xmds \n",
      "\n",
      "xmds2 version 3.0.0 \"Release the Kraken\" (r3071)\n",
      "Copyright 2000-2019 Graham Dennis, Joseph Hope, Mattias Johnsson\n",
      "                    and the xmds team\n",
      "Generating source code...\n",
      "... done\n",
      "Compiling simulation...\n",
      "... done. Type './xgpe2d' to run.\n",
      "\n"
     ]
    }
   ],
   "source": [
    "compile_xmds(output=True)"
   ]
  },
  {
   "cell_type": "code",
   "execution_count": null,
   "metadata": {},
   "outputs": [],
   "source": []
  }
 ],
 "metadata": {
  "kernelspec": {
   "display_name": "Python 3",
   "language": "python",
   "name": "python3"
  },
  "language_info": {
   "codemirror_mode": {
    "name": "ipython",
    "version": 3
   },
   "file_extension": ".py",
   "mimetype": "text/x-python",
   "name": "python",
   "nbconvert_exporter": "python",
   "pygments_lexer": "ipython3",
   "version": "3.8.3"
  }
 },
 "nbformat": 4,
 "nbformat_minor": 4
}
