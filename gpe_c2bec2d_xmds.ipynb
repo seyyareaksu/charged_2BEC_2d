{
 "cells": [
  {
   "cell_type": "code",
   "execution_count": 1,
   "metadata": {},
   "outputs": [],
   "source": [
    "# file: py_c2bec2d/gpe_xmds.py\n",
    "\n",
    "import shlex, subprocess\n",
    "import numpy as np\n",
    "\n",
    "import h5py"
   ]
  },
  {
   "cell_type": "code",
   "execution_count": 2,
   "metadata": {},
   "outputs": [],
   "source": [
    "%matplotlib inline\n",
    "\n",
    "import matplotlib.pyplot as plt \n",
    "plt.style.use(['tableau-colorblind10'])"
   ]
  },
  {
   "cell_type": "code",
   "execution_count": 8,
   "metadata": {},
   "outputs": [],
   "source": [
    "# file: py_c2bec2d/gpe_xmds.py\n",
    "\n",
    "def run_shell_command(cmdline, output=True):\n",
    "    print(\"run shell command: \", cmdline, \"\\n\")\n",
    "    args = shlex.split(cmdline)\n",
    "    # let's use the new run command\n",
    "    p = subprocess.run(args, stdout=subprocess.PIPE, stderr=subprocess.STDOUT)\n",
    "    if output:\n",
    "        print(p.stdout.decode('utf-8'))\n",
    "        return p.stderr    "
   ]
  },
  {
   "cell_type": "code",
   "execution_count": 9,
   "metadata": {},
   "outputs": [
    {
     "name": "stdout",
     "output_type": "stream",
     "text": [
      "run shell command:  ls \n",
      "\n"
     ]
    }
   ],
   "source": [
    "run_shell_command('ls', output=False)"
   ]
  },
  {
   "cell_type": "markdown",
   "metadata": {},
   "source": [
    "# GP Solution with xmds2"
   ]
  },
  {
   "cell_type": "markdown",
   "metadata": {},
   "source": [
    "## Generate xmds file with desired number of lattice points, ranges in $x$ and $y$ coordinates, maximum simulation time etc."
   ]
  },
  {
   "cell_type": "code",
   "execution_count": 14,
   "metadata": {},
   "outputs": [],
   "source": [
    "# file: py_c2bec2d/gpe_xmds.py\n",
    "\n",
    "def generate_xmdsfile(xmax=10.0, ymax=10, nlat=128, tmax=1, xmdstol=1.e-8,\n",
    "                      nsamples1=4, nsamples2=4, args_in_filename=\"no\",\n",
    "                      xmds_compile=\"compile_gpe.xmds\",\n",
    "                      xmdstemplate=\"template_gpe.xmds\"):\n",
    "\n",
    "    # Read in the template file\n",
    "    with open(xmdstemplate, 'r') as file :\n",
    "      filedata = file.read()\n",
    "    \n",
    "    # Replace the target strings\n",
    "    filedata = filedata.replace('xmaxVALUE',   str(xmax))\n",
    "    filedata = filedata.replace('ymaxVALUE',   str(ymax))\n",
    "    filedata = filedata.replace('nlatVALUE',   str(nlat))\n",
    "    filedata = filedata.replace('nsamples1VALUE',   str(nsamples1))\n",
    "    filedata = filedata.replace('nsamples2VALUE',   str(nsamples2))\n",
    "    filedata = filedata.replace('tmaxVALUE',   str(tmax))\n",
    "    filedata = filedata.replace('tolVALUE',    str(xmdstol))\n",
    "    filedata = filedata.replace('argsVALUE',   args_in_filename)\n",
    "\n",
    "    # Write out the file to be compiledb\n",
    "    with open(xmds_compile, 'w') as file:\n",
    "      file.write(filedata)\n",
    "    \n",
    "    print(\"xmds file to compile: \"+xmds_compile)"
   ]
  },
  {
   "cell_type": "code",
   "execution_count": 132,
   "metadata": {},
   "outputs": [],
   "source": [
    "# Simulation parameters\n",
    "xmax=10\n",
    "ymax=xmax\n",
    "nlat=128"
   ]
  },
  {
   "cell_type": "code",
   "execution_count": 133,
   "metadata": {},
   "outputs": [
    {
     "name": "stdout",
     "output_type": "stream",
     "text": [
      "xmds file to compile: compile_gpe.xmds\n"
     ]
    }
   ],
   "source": [
    "generate_xmdsfile(tmax=1, nlat=nlat)"
   ]
  },
  {
   "cell_type": "code",
   "execution_count": 134,
   "metadata": {},
   "outputs": [],
   "source": [
    "# file: py_c2bec2d/gpe_xmds.py\n",
    "\n",
    "def compile_xmds(xmds_compile=\"compile_gpe.xmds\", output=True):\n",
    "    cmdline  = 'xmds2 '+xmds_compile\n",
    "    return run_shell_command(cmdline,output=output)"
   ]
  },
  {
   "cell_type": "code",
   "execution_count": 135,
   "metadata": {},
   "outputs": [
    {
     "name": "stdout",
     "output_type": "stream",
     "text": [
      "run shell command:  xmds2 compile_gpe.xmds \n",
      "\n",
      "xmds2 version 3.0.0 \"Release the Kraken\" (r3071)\n",
      "Copyright 2000-2019 Graham Dennis, Joseph Hope, Mattias Johnsson\n",
      "                    and the xmds team\n",
      "Generating source code...\n",
      "... done\n",
      "Compiling simulation...\n",
      "... done. Type './xgpe2d' to run.\n",
      "\n"
     ]
    }
   ],
   "source": [
    "stderr = compile_xmds(output=True)"
   ]
  },
  {
   "cell_type": "markdown",
   "metadata": {},
   "source": [
    "## create and save initial wave function "
   ]
  },
  {
   "cell_type": "code",
   "execution_count": 145,
   "metadata": {},
   "outputs": [],
   "source": [
    "def save_real_func_as_h5(xa, ya, sa, Vext, variable_name=\"Vext0\", file_name=\"func.h5\"):\n",
    "    import h5py\n",
    "    hf = h5py.File(file_name, \"w\")\n",
    "    hf.create_dataset(\"x\", data=xa)\n",
    "    hf.create_dataset(\"y\", data=ya)\n",
    "    hf.create_dataset(\"s\", data=sa)\n",
    "    hf.create_dataset(variable_name, data=Vext)\n",
    "    hf.close()\n",
    "    print(\"saved file \"+file_name)\n",
    "\n",
    "def save_complex_func_as_h5(xa, ya, sa, phi0, variable_name=\"phi0\", file_name=\"cfunc.h5\"):\n",
    "    import h5py\n",
    "    hf = h5py.File(file_name, \"w\")\n",
    "    hf.create_dataset(\"x\", data=xa)\n",
    "    hf.create_dataset(\"y\", data=ya)\n",
    "    hf.create_dataset(\"s\", data=sa)\n",
    "    hf.create_dataset(variable_name+\"R\", data=phi0.real)\n",
    "    hf.create_dataset(variable_name+\"I\", data=phi0.imag)\n",
    "    hf.close()\n",
    "    print(\"saved file \"+file_name)"
   ]
  },
  {
   "cell_type": "code",
   "execution_count": 146,
   "metadata": {},
   "outputs": [],
   "source": [
    "xa = np.linspace(-xmax,xmax,nlat+1)[:-1]\n",
    "ya = np.linspace(-ymax,ymax,nlat+1)[:-1]\n",
    "sa = np.array([1, 2])\n",
    "\n",
    "\n",
    "xx, yy, ss= np.meshgrid(xa,ya,sa,indexing='xy')  ### changed the index by 'xy' from 'ij'\n",
    "\n",
    "r2 = xx**2 + yy**2 \n",
    "σ2 = ss\n",
    "\n",
    "phi0 = np.exp(-r2/(2*σ2))+0*1j\n",
    "norm2 = np.sum(np.abs(phi0)**2,axis=(0,1))*(xa[1]-xa[0])*(ya[1]-ya[0])\n",
    "#print(norm2)\n",
    "phi0[:,:,0] = phi0[:,:,0]/np.sqrt(norm2[0])\n",
    "phi0[:,:,1] = phi0[:,:,1]/np.sqrt(norm2[1])"
   ]
  },
  {
   "cell_type": "code",
   "execution_count": 147,
   "metadata": {},
   "outputs": [
    {
     "name": "stdout",
     "output_type": "stream",
     "text": [
      "saved file 2phi0.h5\n"
     ]
    },
    {
     "data": {
      "image/png": "[encoded data removed]",
      "text/plain": [
       "<Figure size 720x360 with 2 Axes>"
      ]
     },
     "metadata": {
      "needs_background": "light"
     },
     "output_type": "display_data"
    }
   ],
   "source": [
    "fig, ax = plt.subplots(1,2,figsize=(10,5))\n",
    "\n",
    "for i in range(2):\n",
    "    ax[i].pcolor(xa,ya,phi0.real[:,:,i])\n",
    "    ax[i].set_aspect(1.)\n",
    "    \n",
    "save_complex_func_as_h5(xa, ya, sa, phi0, file_name=\"2phi0.h5\")"
   ]
  },
  {
   "cell_type": "markdown",
   "metadata": {},
   "source": [
    "## create and save external potential"
   ]
  },
  {
   "cell_type": "code",
   "execution_count": 148,
   "metadata": {},
   "outputs": [
    {
     "name": "stdout",
     "output_type": "stream",
     "text": [
      "saved file 2Vext.h5\n"
     ]
    }
   ],
   "source": [
    "save_real_func_as_h5(xa, ya, sa, phi0.real, file_name=\"2Vext.h5\")"
   ]
  },
  {
   "cell_type": "code",
   "execution_count": 149,
   "metadata": {},
   "outputs": [],
   "source": [
    "def run_xmds(args_dict={\"r0\":0}, exefile=\"xgpe2d\", output=True):\n",
    "    # run simulation\n",
    "    # ./xgpe2d --r0=0 etc.\n",
    "    cmdline  = 'nice -19 ./'+exefile\n",
    "    for arg in args_dict:\n",
    "        cmdline+=\" --\"+arg+\"=\"+str(args_dict[arg])\n",
    "    \n",
    "    return run_shell_command(cmdline,output=output)"
   ]
  },
  {
   "cell_type": "code",
   "execution_count": 150,
   "metadata": {},
   "outputs": [
    {
     "name": "stdout",
     "output_type": "stream",
     "text": [
      "run shell command:  nice -19 ./xgpe2d --r0=0 \n",
      "\n",
      "Found enlightenment... (Importing wisdom)\n",
      "Planning for (x, y) <---> (kx, ky) transform... done.\n",
      "Planning for (x, y) <---> (kx, ky) transform... done.\n",
      "Sampled field (for moment group #1) at t = 0.000000e+00\n",
      "Sampled field (for moment group #2) at t = 0.000000e+00\n",
      "\n",
      "\n",
      " Real/Imag. time evolution of a charged two-component BEC: \n",
      "\n",
      "\n",
      "Current timestep: 9.242983e-03\n",
      "Sampled field (for moment group #1) at t = 2.500000e-01\n",
      "Sampled field (for moment group #2) at t = 2.500000e-01\n",
      "Current timestep: 9.212047e-03\n",
      "Sampled field (for moment group #1) at t = 5.000000e-01\n",
      "Sampled field (for moment group #2) at t = 5.000000e-01\n",
      "Current timestep: 9.256916e-03\n",
      "Sampled field (for moment group #1) at t = 7.500000e-01\n",
      "Sampled field (for moment group #2) at t = 7.500000e-01\n",
      "Current timestep: 9.290416e-03\n",
      "Sampled field (for moment group #1) at t = 1.000000e+00\n",
      "Sampled field (for moment group #2) at t = 1.000000e+00\n",
      "Current timestep: 1.058628e-03\n",
      "Segment 3: minimum timestep: 1.000000e-03 maximum timestep: 1.459915e-02\n",
      "  Attempted 114 steps, 1.75% steps failed.\n",
      "Generating output for xgpe2d\n",
      "\u0007\n"
     ]
    }
   ],
   "source": [
    "run_xmds()"
   ]
  },
  {
   "cell_type": "code",
   "execution_count": 151,
   "metadata": {},
   "outputs": [
    {
     "name": "stdout",
     "output_type": "stream",
     "text": [
      "total 12940\n",
      "-rw-r--r-- 1 subasi subasi     537 Jul  5 14:03 README.md\n",
      "-rw-r--r-- 1 subasi subasi    2888 Jul  7 22:52 exportnb.py\n",
      "drwxr-xr-x 2 subasi subasi    4096 Jul  7 22:52 __pycache__\n",
      "-rw-r--r-- 1 subasi subasi    2783 Jul  7 22:55 exports_c2bec2d_xmds.ipynb\n",
      "-rw-r--r-- 1 subasi subasi    3282 Jul  7 22:56 environment_c2bec2d_xmds.yml\n",
      "-rw-r--r-- 1 subasi subasi    8468 Jul  7 22:56 spec-file_c2bec2d_xmds.txt\n",
      "-rw-r--r-- 1 subasi subasi  361807 Jul  7 23:07 gp2d_xmds.ipynb\n",
      "-rw-r--r-- 1 subasi subasi   11334 Jul 17 12:48 template_gpe.xmds\n",
      "-rw-r--r-- 1 subasi subasi   11272 Jul 17 12:48 compile_gpe.xmds\n",
      "-rw-r--r-- 1 subasi subasi  213399 Jul 17 12:48 xgpe2d.cc\n",
      "-rwxr-xr-x 1 subasi subasi 6490872 Jul 17 12:49 xgpe2d\n",
      "-rw-r--r-- 1 subasi subasi   26415 Jul 17 12:51 gpe_c2bec2d_xmds.ipynb\n",
      "-rw-r--r-- 1 subasi subasi  530448 Jul 17 12:53 2phi0.h5\n",
      "-rw-r--r-- 1 subasi subasi  268304 Jul 17 12:53 2Vext.h5\n",
      "-rw-r--r-- 1 subasi subasi   12972 Jul 17 12:53 out_gpe.xsil\n",
      "-rw-r--r-- 1 subasi subasi 5269944 Jul 17 12:53 out_gpe.h5\n"
     ]
    }
   ],
   "source": [
    "!ls -lrt"
   ]
  },
  {
   "cell_type": "code",
   "execution_count": null,
   "metadata": {},
   "outputs": [],
   "source": []
  }
 ],
 "metadata": {
  "kernelspec": {
   "display_name": "Python 3",
   "language": "python",
   "name": "python3"
  },
  "language_info": {
   "codemirror_mode": {
    "name": "ipython",
    "version": 3
   },
   "file_extension": ".py",
   "mimetype": "text/x-python",
   "name": "python",
   "nbconvert_exporter": "python",
   "pygments_lexer": "ipython3",
   "version": "3.8.3"
  }
 },
 "nbformat": 4,
 "nbformat_minor": 4
}
