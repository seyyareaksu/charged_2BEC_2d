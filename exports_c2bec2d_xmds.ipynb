{
 "cells": [
  {
   "cell_type": "markdown",
   "metadata": {},
   "source": [
    "# Two-component GPE simulations in 2D via Xmds2\n",
    "\n",
    "## Organization\n",
    "\n",
    "The components of the library are:\n",
    "\n",
    "1. GP calculations via XMDS2 package\n",
    "2. TF approximation\n",
    "3. Plotting functions\n",
    "\n",
    "In order to convert the notebooks into a library, we use a simple tool built by J. J. García Ripoll and available at https://github.com/juanjosegarciaripoll/exportnb. We download the latest version of the routine, which is not yet standard."
   ]
  },
  {
   "cell_type": "code",
   "execution_count": 1,
   "metadata": {},
   "outputs": [],
   "source": [
    "import urllib.request\n",
    "import os.path\n",
    "\n",
    "if not os.path.isfile(\"exportnb.py\"):\n",
    "    urllib.request.urlretrieve(\"https://raw.githubusercontent.com/juanjosegarciaripoll/exportnb/master/exportnb.py\",\n",
    "                               \"exportnb.py\")"
   ]
  },
  {
   "cell_type": "code",
   "execution_count": 2,
   "metadata": {},
   "outputs": [],
   "source": [
    "import exportnb"
   ]
  },
  {
   "cell_type": "code",
   "execution_count": 3,
   "metadata": {},
   "outputs": [],
   "source": [
    "files = [\n",
    "    'exports_c2bec2d_xmds.ipynb',\n",
    "    'gpe_c2bec2d_xmds.ipynb',\n",
    "]"
   ]
  },
  {
   "cell_type": "code",
   "execution_count": 4,
   "metadata": {},
   "outputs": [],
   "source": [
    "exportnb.export_notebooks(files)"
   ]
  },
  {
   "cell_type": "code",
   "execution_count": 5,
   "metadata": {},
   "outputs": [],
   "source": [
    "# file: py_c2bec2d/__init__.py\n",
    "\n",
    "import numpy as np\n",
    "import shlex, subprocess\n",
    "\n",
    "from py_c2bec2d.gpe_xmds import *\n",
    "\n",
    "def run_nb(nbfile):\n",
    "    # jupyter nbconvert --ExecutePreprocessor.timeout=-1 --to notebook --execute mynotebook.ipynb\n",
    "    return\n",
    "\n",
    "def convert_and_save_as_html(nbfile):\n",
    "    # convert this notebook to html\n",
    "    print(\"use python functions instead of command line\")\n",
    "\n",
    "    #!mkdir ipynb_to_html\n",
    "    #!jupyter nbconvert --to html gp3d_bogo.ipynb\n",
    "    #!mv *.html ipynb_to_html"
   ]
  },
  {
   "cell_type": "code",
   "execution_count": null,
   "metadata": {},
   "outputs": [],
   "source": []
  }
 ],
 "metadata": {
  "kernelspec": {
   "display_name": "Python 3",
   "language": "python",
   "name": "python3"
  },
  "language_info": {
   "codemirror_mode": {
    "name": "ipython",
    "version": 3
   },
   "file_extension": ".py",
   "mimetype": "text/x-python",
   "name": "python",
   "nbconvert_exporter": "python",
   "pygments_lexer": "ipython3",
   "version": "3.8.3"
  }
 },
 "nbformat": 4,
 "nbformat_minor": 4
}
