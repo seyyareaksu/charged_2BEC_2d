{
 "cells": [
  {
   "cell_type": "markdown",
   "metadata": {},
   "source": [
    "# Two-component GPE simulations in 2D via Xmds2\n",
    "\n",
    "## Organization\n",
    "\n",
    "The components of the library are:\n",
    "\n",
    "1. GP calculations via XMDS2 package\n",
    "\n",
    "In order to convert the notebooks into a library, we use a simple tool built by J. J. García Ripoll and available at https://github.com/juanjosegarciaripoll/exportnb. We download the latest version of the routine, which is not yet standard."
   ]
  },
  {
   "cell_type": "code",
   "execution_count": 1,
   "metadata": {},
   "outputs": [],
   "source": [
    "import urllib.request\n",
    "import os.path\n",
    "\n",
    "if not os.path.isfile(\"exportnb.py\"):\n",
    "    urllib.request.urlretrieve(\"https://raw.githubusercontent.com/juanjosegarciaripoll/exportnb/master/exportnb.py\",\n",
    "                               \"exportnb.py\")"
   ]
  },
  {
   "cell_type": "code",
   "execution_count": 2,
   "metadata": {},
   "outputs": [],
   "source": [
    "import exportnb"
   ]
  },
  {
   "cell_type": "code",
   "execution_count": 3,
   "metadata": {},
   "outputs": [],
   "source": [
    "files = [\n",
    "    'exports_tcrbec_xmds.ipynb',\n",
    "    'xmds2_tcrbec.ipynb',\n",
    "]"
   ]
  },
  {
   "cell_type": "code",
   "execution_count": 16,
   "metadata": {},
   "outputs": [],
   "source": [
    "exportnb.export_notebooks(files)"
   ]
  },
  {
   "cell_type": "code",
   "execution_count": 17,
   "metadata": {},
   "outputs": [
    {
     "ename": "ModuleNotFoundError",
     "evalue": "No module named 'xmds2'",
     "output_type": "error",
     "traceback": [
      "\u001b[0;31m---------------------------------------------------------------------------\u001b[0m",
      "\u001b[0;31mModuleNotFoundError\u001b[0m                       Traceback (most recent call last)",
      "\u001b[0;32m<ipython-input-17-0315de00b8b4>\u001b[0m in \u001b[0;36m<module>\u001b[0;34m\u001b[0m\n\u001b[1;32m      4\u001b[0m \u001b[0;32mimport\u001b[0m \u001b[0mshlex\u001b[0m\u001b[0;34m,\u001b[0m \u001b[0msubprocess\u001b[0m\u001b[0;34m\u001b[0m\u001b[0;34m\u001b[0m\u001b[0m\n\u001b[1;32m      5\u001b[0m \u001b[0;34m\u001b[0m\u001b[0m\n\u001b[0;32m----> 6\u001b[0;31m \u001b[0;32mfrom\u001b[0m  \u001b[0mxmds2\u001b[0m \u001b[0;32mimport\u001b[0m \u001b[0;34m*\u001b[0m\u001b[0;34m\u001b[0m\u001b[0;34m\u001b[0m\u001b[0m\n\u001b[0m\u001b[1;32m      7\u001b[0m \u001b[0;34m\u001b[0m\u001b[0m\n\u001b[1;32m      8\u001b[0m \u001b[0;32mdef\u001b[0m \u001b[0mrun_nb\u001b[0m\u001b[0;34m(\u001b[0m\u001b[0mnbfile\u001b[0m\u001b[0;34m)\u001b[0m\u001b[0;34m:\u001b[0m\u001b[0;34m\u001b[0m\u001b[0;34m\u001b[0m\u001b[0m\n",
      "\u001b[0;31mModuleNotFoundError\u001b[0m: No module named 'xmds2'"
     ]
    }
   ],
   "source": [
    "# file: py_locked_in_droplet/__init__.py\n",
    "\n",
    "import numpy as np\n",
    "import shlex, subprocess\n",
    "   \n",
    "from  xmds2 import *\n",
    "\n",
    "def run_nb(nbfile):\n",
    "    # jupyter nbconvert --ExecutePreprocessor.timeout=-1 --to notebook --execute mynotebook.ipynb\n",
    "    return\n",
    "\n",
    "def convert_and_save_as_html(nbfile):\n",
    "    # convert this notebook to html\n",
    "    print(\"use python functions instead of command line\")\n",
    "\n",
    "    #!mkdir ipynb_to_html\n",
    "    #!jupyter nbconvert --to html gp3d_bogo.ipynb\n",
    "    #!mv *.html ipynb_to_html"
   ]
  },
  {
   "cell_type": "code",
   "execution_count": null,
   "metadata": {},
   "outputs": [],
   "source": []
  }
 ],
 "metadata": {
  "kernelspec": {
   "display_name": "Python 3",
   "language": "python",
   "name": "python3"
  },
  "language_info": {
   "codemirror_mode": {
    "name": "ipython",
    "version": 3
   },
   "file_extension": ".py",
   "mimetype": "text/x-python",
   "name": "python",
   "nbconvert_exporter": "python",
   "pygments_lexer": "ipython3",
   "version": "3.8.3"
  }
 },
 "nbformat": 4,
 "nbformat_minor": 4
}
